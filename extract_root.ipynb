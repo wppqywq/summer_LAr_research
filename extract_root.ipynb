{
 "cells": [
  {
   "cell_type": "code",
   "execution_count": 25,
   "metadata": {},
   "outputs": [],
   "source": [
    "import ROOT\n",
    "import numpy as np\n",
    "import os"
   ]
  },
  {
   "cell_type": "code",
   "execution_count": 32,
   "metadata": {},
   "outputs": [
    {
     "data": {
      "text/plain": [
       "['OF5_EMB_EMMiddle_eta0.5125_phi0.0125_mu140_BT1_onlyPileup_bunchLength5_size22.root',\n",
       " 'OF5_EMB_EMMiddle_eta0.5125_phi0.0125_mu140_BT1_constGapHighE_bunchLength5_size22.root',\n",
       " 'OF5_EMB_EMMiddle_eta0.5125_phi0.0125_mu140_BT1_rdGapLowE_bunchLength5_size22.root',\n",
       " 'OF5_EMB_EMMiddle_eta0.5125_phi0.0125_mu140_BT1_rdGapHighE_bunchLength5_size22.root',\n",
       " 'OF5_EMB_EMMiddle_eta0.5125_phi0.0125_mu140_BTF72E8_rdGapHighE_bunchLength5_size2.root',\n",
       " 'OF5_EMB_EMMiddle_eta0.5125_phi0.0125_mu140_BT1_constGapLowE_bunchLength5_size22.root']"
      ]
     },
     "execution_count": 32,
     "metadata": {},
     "output_type": "execute_result"
    }
   ],
   "source": [
    "pathes = os.listdir('.')\n",
    "pathes = [i for i in pathes if i[:3]=='OF5']\n",
    "\n",
    "pathes"
   ]
  },
  {
   "cell_type": "code",
   "execution_count": 53,
   "metadata": {},
   "outputs": [
    {
     "name": "stdout",
     "output_type": "stream",
     "text": [
      "TFile**\t\tOF5_EMB_EMMiddle_eta0.5125_phi0.0125_mu140_BTF72E8_rdGapHighE_bunchLength5_size2.root\t\n",
      " TFile*\t\tOF5_EMB_EMMiddle_eta0.5125_phi0.0125_mu140_BTF72E8_rdGapHighE_bunchLength5_size2.root\t\n",
      "  KEY: TDirectoryFile\tEMB_EMMiddle_0.5125X0.0125;1\tEMB_EMMiddle_0.5125X0.0125\n"
     ]
    }
   ],
   "source": [
    "\n",
    "files = [ ROOT.TFile(i) for i in pathes]\n",
    "\n",
    "files[4].ls()"
   ]
  },
  {
   "cell_type": "code",
   "execution_count": 56,
   "metadata": {},
   "outputs": [
    {
     "name": "stdout",
     "output_type": "stream",
     "text": [
      "TDirectoryFile*\t\tEMB_EMMiddle_0.5125X0.0125\tEMB_EMMiddle_0.5125X0.0125\n",
      " KEY: TDirectoryFile\t2_maxfinder;1\t2_maxfinder\n",
      " KEY: TDirectoryFile\t1_of;1\t1_of\n",
      " KEY: TDirectoryFile\t0_digitization;1\t0_digitization\n"
     ]
    }
   ],
   "source": [
    "dir_name = 'EMB_EMMiddle_0.5125X0.0125'\n",
    "\n",
    "dirs = [i.Get(dir_name) for i in files]\n",
    "\n",
    "dirs[1].ls()"
   ]
  },
  {
   "cell_type": "code",
   "execution_count": 61,
   "metadata": {},
   "outputs": [],
   "source": [
    "for p in pathes:\n",
    "\n",
    "    os.makedirs('./'+p[:-5])"
   ]
  },
  {
   "cell_type": "code",
   "execution_count": 62,
   "metadata": {},
   "outputs": [
    {
     "name": "stdout",
     "output_type": "stream",
     "text": [
      "TDirectoryFile*\t\t1_of\t1_of\n",
      " OBJ: TH1F\tconfiguration\tAlgorithm Configuration : 0 at: 0x7fd9bef28d50\n",
      " OBJ: TH1F\tdigits_out_sequence_eT\tOutput Sequence of Digits : 0 at: 0x7fd9be86a840\n",
      " KEY: TH1F\tconfiguration;1\tAlgorithm Configuration\n",
      " KEY: TDirectoryFile\tstate;1\tstate\n",
      " KEY: TH1F\tideal_output_sequence;1\tIdeal Output Sequence\n",
      " KEY: TH1F\tdigits_out;1\tOutput Digits\n",
      " KEY: TH1F\tdigits_out_sequence_cnt;1\tOutput Sequence of Digits\n",
      " KEY: TH1F\tdigits_out_sequence_eT;1\tOutput Sequence of Digits\n"
     ]
    }
   ],
   "source": [
    "\n",
    "name_0_dig = ['ideal_output_sequence', 'digits_out_sequence_eT', 'hit_eT_sig_sequence', 'hit_eT_bck_sequence']\n",
    "name_1_of = ['configuration', 'digits_out_sequence_eT']\n",
    "\n",
    "for i in range(6):\n",
    "    f = dirs[i]\n",
    "    dir_0_dig = f.Get('0_digitization')\n",
    "    for b in name_0_dig:\n",
    "        branch = dir_0_dig.Get(b)\n",
    "        bin_content = [branch.GetBinContent(i) for i in range(1, branch.GetNbinsX() + 1)]\n",
    "\n",
    "        dir_path = pathes[i][:-5]+'/'+'0_digitization/'\n",
    "        directory = os.path.dirname(dir_path)\n",
    "        if not os.path.exists(directory):\n",
    "            os.makedirs(directory)\n",
    "\n",
    "        np.savetxt(dir_path+b+'.txt', np.array(bin_content))\n",
    "\n",
    "    dir_1_of = f.Get('1_of')\n",
    "    for b in name_1_of:\n",
    "        branch = dir_1_of.Get(b)\n",
    "        bin_content = [branch.GetBinContent(i) for i in range(1, branch.GetNbinsX() + 1)]\n",
    "\n",
    "        dir_path = pathes[i][:-5]+'/'+'1_of/'\n",
    "        directory = os.path.dirname(dir_path)\n",
    "        if not os.path.exists(directory):\n",
    "            os.makedirs(directory)\n",
    "\n",
    "        np.savetxt(dir_path+b+'.txt', np.array(bin_content))\n",
    "\n",
    "\n",
    "dir_1_of.ls()"
   ]
  },
  {
   "cell_type": "code",
   "execution_count": 6,
   "metadata": {},
   "outputs": [
    {
     "name": "stdout",
     "output_type": "stream",
     "text": [
      "TDirectoryFile*\t\t0_digitization\t0_digitization\n",
      " KEY: TH1F\tideal_output_sequence;1\tIdeal Output Sequence\n",
      " KEY: TH1F\tdigits_out;1\tOutput Digits\n",
      " KEY: TH1F\tdigits_out_sequence_cnt;1\tOutput Sequence of Digits\n",
      " KEY: TH1F\tdigits_out_sequence_eT;1\tOutput Sequence of Digits\n",
      " KEY: TH1I\thit_count_sum;1\tCount of Hits\n",
      " KEY: TH1I\thit_count_sig;1\tCount of Signal Hits\n",
      " KEY: TH1I\thit_count_bck;1\tCount of Background Hits\n",
      " KEY: TH1F\thit_energy_sum;1\tEnergy of Hits\n",
      " KEY: TH1F\thit_energy_sig;1\tEnergy of Signal Hits\n",
      " KEY: TH1F\thit_energy_bck;1\tEnergy of Background Hits\n",
      " KEY: TH1F\thit_eT_sum;1\tTransverse Energy of Hits\n",
      " KEY: TH1F\thit_eT_sig;1\tTransverse Energy of Signal Hits\n",
      " KEY: TH1F\thit_eT_bck;1\tTransverse Energy of Background Hits\n",
      " KEY: TH1F\thit_eT_sequence;1\tSequence of Hit Energies\n",
      " KEY: TH1F\thit_eT_sig_sequence;1\tSequence of Signal Hit Energies\n",
      " KEY: TH1F\thit_eT_bck_sequence;1\tSequence of Background Hit Energies\n",
      " KEY: TH1F\thit_time;1\tEnergy weighted Average of Hit Time\n",
      " KEY: TH1F\thit_time_sequence;1\tSequence of Energy weighted Average of Hit Time\n",
      " KEY: TH2F\thit_time_energy;1\tHit Time - Energy Correlation\n",
      " KEY: TH1F\tshaped_noise_value;1\tThermal Noise Values\n",
      " KEY: TH1F\tshaped_noise_sigma;1\tThermal Noise Sigma\n",
      " KEY: TH1F\tshaped_phase_dynamic;1\tDynamic Shape Phase\n",
      " KEY: TH1F\tshaped_phase_static;1\tStatic Shape Phase\n",
      " KEY: TH1F\tshaped_samples;1\tShaped Analogue Samples\n",
      " KEY: TH1F\tshaped_sample_sequence_volt;1\tSequence of Shaped Analogue Samples\n",
      " KEY: TH1F\tshaped_sample_sequence_eT;1\tSequence of Shaped Analogue Samples\n",
      " KEY: TH1F\tadc_quantization_error_mV;1\tADC Quantization Error\n",
      " KEY: TH1I\tadc_quantization_error_lsb;1\tADC Quantization Error\n"
     ]
    }
   ],
   "source": [
    "dir.ls()"
   ]
  },
  {
   "cell_type": "code",
   "execution_count": null,
   "metadata": {},
   "outputs": [],
   "source": []
  }
 ],
 "metadata": {
  "kernelspec": {
   "display_name": "cern2",
   "language": "python",
   "name": "python3"
  },
  "language_info": {
   "codemirror_mode": {
    "name": "ipython",
    "version": 3
   },
   "file_extension": ".py",
   "mimetype": "text/x-python",
   "name": "python",
   "nbconvert_exporter": "python",
   "pygments_lexer": "ipython3",
   "version": "3.10.6"
  },
  "orig_nbformat": 4
 },
 "nbformat": 4,
 "nbformat_minor": 2
}
